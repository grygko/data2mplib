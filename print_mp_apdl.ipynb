{
 "metadata": {
  "name": "print_mp_apdl"
 },
 "nbformat": 3,
 "nbformat_minor": 0,
 "worksheets": [
  {
   "cells": [
    {
     "cell_type": "heading",
     "level": 1,
     "metadata": {},
     "source": [
      "APDL example"
     ]
    },
    {
     "cell_type": "raw",
     "metadata": {},
     "source": [
      "/prep7\n",
      "MPTEMP,1,0,500               ! Define temperature-dependent EX,\n",
      "MPDATA,EX,1,,14.665E6,12.423e6           \n",
      "MPDATA,PRXY,1,,0.3\n",
      "                                ! MPDATA, Lab, MAT, STLOC, C1, C2, C3, C4, C5, C6\n",
      "                                ! MPTEMP, STLOC, T1, T2, T3, T4, T5, T6\n",
      "                                ! TB, Lab, MAT, NTEMP, NPTS, TBOPT, EOSOPT, FuncName\n",
      "\n",
      "TB,PLASTIC,1,2,5,KINH        ! Activate TB,PLASTIC data table\n",
      "TBTEMP,0.0                   ! Temperature = 0.0\n",
      "TBPT,,0,29.33E3          ! Plastic strain, stress at temperature = 0\n",
      "TBPT,,1.59E-3,50E3\n",
      "TBPT,,3.25E-3,55E3\n",
      "TBPT,,5.91E-3,60E3\n",
      "TBPT,,1.06E-2,65E3\n",
      "TBTEMP,500                   ! Temperature = 500\n",
      "TBPT,,0,27.33E3          ! Plastic strain, stress at temperature = 500\n",
      "TBPT,,2.02E-3,37E3\n",
      "TBPT,,3.76E-3,40.3E3\n",
      "TBPT,,6.48E-3,43.7E3\n",
      "TBPT,,1.12E-2,47E3"
     ]
    },
    {
     "cell_type": "code",
     "collapsed": false,
     "input": [
      "import sys\n",
      "import numpy as np\n",
      "\n",
      "temp = np.linspace(300, 400, 10)\n",
      "ex = temp*1e3\n",
      "tb_pt = np.arange(60).reshape(10,2,3)"
     ],
     "language": "python",
     "metadata": {},
     "outputs": [],
     "prompt_number": 64
    },
    {
     "cell_type": "code",
     "collapsed": false,
     "input": [
      "def print_mptemp(temp_list, command='MPTEMP', max_entries=6, fmt='{:.2f}'):\n",
      "    \"\"\"Print temperatures in accordance to MPTEMP command to stdout\n",
      "    \n",
      "    Args:\n",
      "        temp_list (list): 1D list with temperature values\n",
      "        command (string): APDL command\n",
      "        max_entries (int): max number of the property entries on on line\n",
      "        fmt (str): string formatter. How to pass it XXX\n",
      "    \"\"\"    \n",
      "    \n",
      "    for val, ix in zip(temp_list, range(len(temp_list))):\n",
      "        if ix % max_entries == 0:\n",
      "            sys.stdout.write('\\n{0},{1}, {2:.2f}'.format(command, ix+1, val))\n",
      "        else:\n",
      "             sys.stdout.write(', {0:.2f}'.format(val))\n",
      "                \n",
      "                        \n",
      "def print_mpdata(data_list, lab, command='MPDATA', max_entries=6, fmt='{:.3E}'):\n",
      "    \"\"\"Print linear temperature-dependant material property to stdout\n",
      "    \n",
      "    Args:\n",
      "        data_list (list): 1D data list\n",
      "        lab (string): valid ANSYS APDL property label\n",
      "        command (string): APDL command\n",
      "        max_entries (int): max number of the property entries on on line\n",
      "        fmt (str): string formatter. How to pass it XXX\n",
      "\n",
      "    The function prints in ANSYS APDL format convenient for e.g., saving to files\n",
      "    \"\"\"    \n",
      "    for val, ix in zip(data_list, range(len(data_list))):\n",
      "        if ix % max_entries == 0:\n",
      "            sys.stdout.write('\\n{0},{1},{2}, {3:.3E}'.\n",
      "                             format(command, lab, ix+1, val))\n",
      "        else:\n",
      "             sys.stdout.write(', {0:.3E}'.format(val))\n",
      "                \n",
      "def print_tb(lab, mat, tbopt, temp_list, tbpt_list, max_npts=100,\n",
      "             max_ntemp=20, temp_fmt='{:.2f}', data_fmt='{:.3E}'):\n",
      "    \"\"\"\n",
      "    Args:\n",
      "        tbpt_list (list): ntemp x N x 2 list containing data points. Will be cut-off\n",
      "        for ntemp > max_npts\n",
      "        max_ntemp (int): max number of temperature points\n",
      "        max_npts (int): max number of data points\n",
      "\n",
      "    Example:\n",
      "        TB, Lab, MAT, NTEMP, NPTS, TBOPT\n",
      "        \n",
      "        TB,PLASTIC,1,2,3,KINH\n",
      "        TBTEMP,0.0                   ! Temperature = 0.0\n",
      "        TBPT,,0,29.33E3          ! Plastic strain, stress at temperature = 0\n",
      "        TBPT,,1.59E-3,50E3\n",
      "        TBPT,,3.25E-3,55E3\n",
      "        TBTEMP,500                   ! Temperature = 500\n",
      "        TBPT,,0,27.33E3          ! Plastic strain, stress at temperature = 500\n",
      "        TBPT,,2.02E-3,37E3\n",
      "        TBPT,,3.76E-3,40.3E3\n",
      "    \"\"\"\n",
      "    temp_list = temp_list[:max_ntemp] # cut-off exceeding elements\n",
      "    tbpt_list = tbpt_list[:max_npts]\n",
      "    ntemp = len(temp_list)\n",
      "    npts = len(tbpt_list)\n",
      "    \n",
      "    sys.stdout.write('\\nTB,{0},{1},{2},{3},{4}'.\n",
      "                     format(lab, mat, ntemp, npts, tbopt))\n",
      "\n",
      "    for temp, tix in zip(temp_list, range(len(temp_list))):\n",
      "        sys.stdout.write('\\nTBTEMP,{0:.2f}'.format(temp))\n",
      "        \n",
      "        for x1, x2 in zip(tbpt_list[tix][0], tbpt_list[tix][1]):\n",
      "            sys.stdout.write('\\nTBPT,, {0:10.3E}, {1:12.5E}'.format(x1, x2))\n",
      "                \n",
      "print_mptemp(temp)\n",
      "print_mpdata(ex, 'EX')\n",
      "print_tb('PLASTIC', 1, 'KINH', temp, tb_pt)"
     ],
     "language": "python",
     "metadata": {},
     "outputs": [
      {
       "output_type": "stream",
       "stream": "stdout",
       "text": [
        "\n",
        "MPTEMP,1, 300.00, 311.11, 322.22, 333.33, 344.44, 355.56\n",
        "MPTEMP,7, 366.67, 377.78, 388.89, 400.00\n",
        "MPDATA,EX,1, 3.000E+05, 3.111E+05, 3.222E+05, 3.333E+05, 3.444E+05, 3.556E+05\n",
        "MPDATA,EX,7, 3.667E+05, 3.778E+05, 3.889E+05, 4.000E+05\n",
        "TB,PLASTIC,1,10,10,KINH\n",
        "TBTEMP,300.00\n",
        "TBPT,,  0.000E+00,  3.00000E+00\n",
        "TBPT,,  1.000E+00,  4.00000E+00\n",
        "TBPT,,  2.000E+00,  5.00000E+00\n",
        "TBTEMP,311.11\n",
        "TBPT,,  6.000E+00,  9.00000E+00\n",
        "TBPT,,  7.000E+00,  1.00000E+01\n",
        "TBPT,,  8.000E+00,  1.10000E+01\n",
        "TBTEMP,322.22\n",
        "TBPT,,  1.200E+01,  1.50000E+01\n",
        "TBPT,,  1.300E+01,  1.60000E+01\n",
        "TBPT,,  1.400E+01,  1.70000E+01\n",
        "TBTEMP,333.33\n",
        "TBPT,,  1.800E+01,  2.10000E+01\n",
        "TBPT,,  1.900E+01,  2.20000E+01\n",
        "TBPT,,  2.000E+01,  2.30000E+01\n",
        "TBTEMP,344.44\n",
        "TBPT,,  2.400E+01,  2.70000E+01\n",
        "TBPT,,  2.500E+01,  2.80000E+01\n",
        "TBPT,,  2.600E+01,  2.90000E+01\n",
        "TBTEMP,355.56\n",
        "TBPT,,  3.000E+01,  3.30000E+01\n",
        "TBPT,,  3.100E+01,  3.40000E+01\n",
        "TBPT,,  3.200E+01,  3.50000E+01\n",
        "TBTEMP,366.67\n",
        "TBPT,,  3.600E+01,  3.90000E+01\n",
        "TBPT,,  3.700E+01,  4.00000E+01\n",
        "TBPT,,  3.800E+01,  4.10000E+01\n",
        "TBTEMP,377.78\n",
        "TBPT,,  4.200E+01,  4.50000E+01\n",
        "TBPT,,  4.300E+01,  4.60000E+01\n",
        "TBPT,,  4.400E+01,  4.70000E+01\n",
        "TBTEMP,388.89\n",
        "TBPT,,  4.800E+01,  5.10000E+01\n",
        "TBPT,,  4.900E+01,  5.20000E+01\n",
        "TBPT,,  5.000E+01,  5.30000E+01\n",
        "TBTEMP,400.00\n",
        "TBPT,,  5.400E+01,  5.70000E+01\n",
        "TBPT,,  5.500E+01,  5.80000E+01\n",
        "TBPT,,  5.600E+01,  5.90000E+01"
       ]
      }
     ],
     "prompt_number": 77
    },
    {
     "cell_type": "code",
     "collapsed": false,
     "input": [
      "fmt='{:10.3E}'\n",
      "print('a = {0:.2f} b = '+fmt.format(100000, 200000))\n"
     ],
     "language": "python",
     "metadata": {},
     "outputs": [
      {
       "output_type": "stream",
       "stream": "stdout",
       "text": [
        "a = {0:.2f} b =  1.000E+05\n"
       ]
      }
     ],
     "prompt_number": 55
    },
    {
     "cell_type": "code",
     "collapsed": false,
     "input": [
      "a = np.arange(36).reshape(3,2,6)\n",
      "print a, '\\n'*2, a[0,1,4], a[0][:,3]"
     ],
     "language": "python",
     "metadata": {},
     "outputs": [
      {
       "output_type": "stream",
       "stream": "stdout",
       "text": [
        " [[[ 0  1  2  3  4  5]\n",
        "  [ 6  7  8  9 10 11]]\n",
        "\n",
        " [[12 13 14 15 16 17]\n",
        "  [18 19 20 21 22 23]]\n",
        "\n",
        " [[24 25 26 27 28 29]\n",
        "  [30 31 32 33 34 35]]] \n",
        "\n",
        "10 [3 9]\n"
       ]
      }
     ],
     "prompt_number": 55
    },
    {
     "cell_type": "code",
     "collapsed": false,
     "input": [
      "for l in a:\n",
      "    for m,n in zip(l[0],l[1]):\n",
      "        print m,n,'\\n'"
     ],
     "language": "python",
     "metadata": {},
     "outputs": [
      {
       "output_type": "stream",
       "stream": "stdout",
       "text": [
        "0 6 \n",
        "\n",
        "1 7 \n",
        "\n",
        "2 8 \n",
        "\n",
        "3 9 \n",
        "\n",
        "4 10 \n",
        "\n",
        "5 11 \n",
        "\n",
        "12 18 \n",
        "\n",
        "13 19 \n",
        "\n",
        "14 20 \n",
        "\n",
        "15 21 \n",
        "\n",
        "16 22 \n",
        "\n",
        "17 23 \n",
        "\n",
        "24 30 \n",
        "\n",
        "25 31 \n",
        "\n",
        "26 32 \n",
        "\n",
        "27 33 \n",
        "\n",
        "28 34 \n",
        "\n",
        "29 35 \n",
        "\n"
       ]
      }
     ],
     "prompt_number": 62
    }
   ],
   "metadata": {}
  }
 ]
}